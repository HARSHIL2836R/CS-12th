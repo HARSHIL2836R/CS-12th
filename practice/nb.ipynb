{
 "cells": [
  {
   "cell_type": "code",
   "execution_count": 4,
   "metadata": {},
   "outputs": [
    {
     "name": "stdout",
     "output_type": "stream",
     "text": [
      "India, \n",
      "india, \n",
      "INDIA \n",
      "india.\n",
      "india \n",
      "123india\n"
     ]
    }
   ],
   "source": [
    "print(open('myfile1.txt','r').read())"
   ]
  },
  {
   "cell_type": "code",
   "execution_count": 5,
   "metadata": {},
   "outputs": [
    {
     "name": "stdout",
     "output_type": "stream",
     "text": [
      "['']\n"
     ]
    }
   ],
   "source": [
    "row = [x.strip(' .\"') for x in input(\"Enter records separated by comma :\").split(',')]\n",
    "print(row)"
   ]
  },
  {
   "cell_type": "code",
   "execution_count": 6,
   "metadata": {},
   "outputs": [
    {
     "name": "stdout",
     "output_type": "stream",
     "text": [
      "line 1: India, \n",
      "line 2: india, \n",
      "line 3: INDIA \n",
      "line 4: india.\n",
      "line 5: india \n",
      "line 6: 123india"
     ]
    }
   ],
   "source": [
    "#myrun\n",
    "i=1\n",
    "for line in open('myfile1.txt','r'):\n",
    "    print('line %d:'%i,line, end = '')\n",
    "    i+=1"
   ]
  },
  {
   "cell_type": "code",
   "execution_count": 1,
   "metadata": {},
   "outputs": [],
   "source": [
    "f = open('myfile.txt','w')\n",
    "f.write('abcd\\nefg\\nhijk\\nK')\n",
    "f.close()"
   ]
  },
  {
   "cell_type": "code",
   "execution_count": 13,
   "metadata": {},
   "outputs": [
    {
     "name": "stdout",
     "output_type": "stream",
     "text": [
      "<class 'dict_keys'>\n",
      "dict_keys(['you', 'me'])\n"
     ]
    }
   ],
   "source": [
    "dict = {'you':'me', 'me':'you'}\n",
    "print(type(dict.keys()))\n",
    "print(dict.keys())"
   ]
  }
 ],
 "metadata": {
  "kernelspec": {
   "display_name": "Python 3",
   "language": "python",
   "name": "python3"
  },
  "language_info": {
   "codemirror_mode": {
    "name": "ipython",
    "version": 3
   },
   "file_extension": ".py",
   "mimetype": "text/x-python",
   "name": "python",
   "nbconvert_exporter": "python",
   "pygments_lexer": "ipython3",
   "version": "3.11.2"
  },
  "orig_nbformat": 4
 },
 "nbformat": 4,
 "nbformat_minor": 2
}
